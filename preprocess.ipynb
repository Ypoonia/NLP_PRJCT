{
 "cells": [
  {
   "cell_type": "code",
   "execution_count": 46,
   "metadata": {},
   "outputs": [],
   "source": [
    "import pandas as pd\n",
    "import re\n",
    "import string\n",
    "from bs4 import BeautifulSoup"
   ]
  },
  {
   "cell_type": "code",
   "execution_count": 47,
   "metadata": {},
   "outputs": [],
   "source": [
    "issues = pd.read_json('cleaned_issues.json')"
   ]
  },
  {
   "cell_type": "code",
   "execution_count": 48,
   "metadata": {},
   "outputs": [
    {
     "data": {
      "text/html": [
       "<div>\n",
       "<style scoped>\n",
       "    .dataframe tbody tr th:only-of-type {\n",
       "        vertical-align: middle;\n",
       "    }\n",
       "\n",
       "    .dataframe tbody tr th {\n",
       "        vertical-align: top;\n",
       "    }\n",
       "\n",
       "    .dataframe thead th {\n",
       "        text-align: right;\n",
       "    }\n",
       "</style>\n",
       "<table border=\"1\" class=\"dataframe\">\n",
       "  <thead>\n",
       "    <tr style=\"text-align: right;\">\n",
       "      <th></th>\n",
       "      <th>repo_name</th>\n",
       "      <th>title</th>\n",
       "      <th>body</th>\n",
       "      <th>languages</th>\n",
       "    </tr>\n",
       "  </thead>\n",
       "  <tbody>\n",
       "    <tr>\n",
       "      <th>0</th>\n",
       "      <td>hyper</td>\n",
       "      <td>Allow overriding the default shell on Windows</td>\n",
       "      <td>**Is your feature request related to a problem...</td>\n",
       "      <td>[TypeScript, Shell, NSIS]</td>\n",
       "    </tr>\n",
       "    <tr>\n",
       "      <th>1</th>\n",
       "      <td>hyper</td>\n",
       "      <td>Support forward slashes on Windows</td>\n",
       "      <td>**Is your feature request related to a problem...</td>\n",
       "      <td>[TypeScript, Shell, NSIS]</td>\n",
       "    </tr>\n",
       "    <tr>\n",
       "      <th>2</th>\n",
       "      <td>hyper</td>\n",
       "      <td>Support home-relative paths by expanding `~`</td>\n",
       "      <td>**Is your feature request related to a problem...</td>\n",
       "      <td>[TypeScript, Shell, NSIS]</td>\n",
       "    </tr>\n",
       "    <tr>\n",
       "      <th>3</th>\n",
       "      <td>vercel</td>\n",
       "      <td>`vercel link --repo` very slow</td>\n",
       "      <td>I used `0x` to trace it and its a glob issue.\\...</td>\n",
       "      <td>[TypeScript, JavaScript, HTML]</td>\n",
       "    </tr>\n",
       "    <tr>\n",
       "      <th>4</th>\n",
       "      <td>vercel</td>\n",
       "      <td>[cli] Add telemetry for `vercel teams invite e...</td>\n",
       "      <td>Additional telemetry (and minimal test setup t...</td>\n",
       "      <td>[TypeScript, JavaScript, HTML]</td>\n",
       "    </tr>\n",
       "  </tbody>\n",
       "</table>\n",
       "</div>"
      ],
      "text/plain": [
       "  repo_name                                              title   \n",
       "0     hyper      Allow overriding the default shell on Windows  \\\n",
       "1     hyper                 Support forward slashes on Windows   \n",
       "2     hyper       Support home-relative paths by expanding `~`   \n",
       "3    vercel                     `vercel link --repo` very slow   \n",
       "4    vercel  [cli] Add telemetry for `vercel teams invite e...   \n",
       "\n",
       "                                                body   \n",
       "0  **Is your feature request related to a problem...  \\\n",
       "1  **Is your feature request related to a problem...   \n",
       "2  **Is your feature request related to a problem...   \n",
       "3  I used `0x` to trace it and its a glob issue.\\...   \n",
       "4  Additional telemetry (and minimal test setup t...   \n",
       "\n",
       "                        languages  \n",
       "0       [TypeScript, Shell, NSIS]  \n",
       "1       [TypeScript, Shell, NSIS]  \n",
       "2       [TypeScript, Shell, NSIS]  \n",
       "3  [TypeScript, JavaScript, HTML]  \n",
       "4  [TypeScript, JavaScript, HTML]  "
      ]
     },
     "execution_count": 48,
     "metadata": {},
     "output_type": "execute_result"
    }
   ],
   "source": [
    "issues.head()"
   ]
  },
  {
   "cell_type": "code",
   "execution_count": 49,
   "metadata": {},
   "outputs": [],
   "source": [
    "issues['tags'] = issues['title'] + ' ' + issues['body'] + ' ' + str(issues['languages'])"
   ]
  },
  {
   "cell_type": "code",
   "execution_count": 50,
   "metadata": {},
   "outputs": [
    {
     "name": "stderr",
     "output_type": "stream",
     "text": [
      "[nltk_data] Downloading package stopwords to /Users/mac/nltk_data...\n",
      "[nltk_data]   Package stopwords is already up-to-date!\n"
     ]
    }
   ],
   "source": [
    "def clean_text(text):\n",
    "    text = text.lower()\n",
    "    text = re.sub(r'\\d+', '', text)\n",
    "    text = text.translate(str.maketrans('', '', string.punctuation))\n",
    "    text = re.sub(r'\\W', ' ', text)\n",
    "    text = BeautifulSoup(text, \"html.parser\").get_text() \n",
    "    return text\n",
    "\n",
    "import nltk\n",
    "from nltk.corpus import stopwords\n",
    "\n",
    "nltk.download('stopwords')\n",
    "stop_words = set(stopwords.words('english'))\n",
    "\n",
    "def remove_stopwords(text):\n",
    "    return ' '.join([word for word in text.split() if word not in stop_words])\n",
    "\n",
    "import spacy\n",
    "nlp = spacy.load(\"en_core_web_sm\")\n",
    "\n",
    "def lemmatize_text(text):\n",
    "    doc = nlp(text)\n",
    "    return ' '.join([token.lemma_ for token in doc if not token.is_stop])"
   ]
  },
  {
   "cell_type": "code",
   "execution_count": 51,
   "metadata": {},
   "outputs": [],
   "source": [
    "issues['tags'] = issues['tags'].apply(clean_text)\n",
    "issues['tags'] = issues['tags'].apply(remove_stopwords)\n",
    "issues['tags'] = issues['tags'].apply(lemmatize_text)"
   ]
  },
  {
   "cell_type": "code",
   "execution_count": 52,
   "metadata": {},
   "outputs": [
    {
     "data": {
      "text/html": [
       "<div>\n",
       "<style scoped>\n",
       "    .dataframe tbody tr th:only-of-type {\n",
       "        vertical-align: middle;\n",
       "    }\n",
       "\n",
       "    .dataframe tbody tr th {\n",
       "        vertical-align: top;\n",
       "    }\n",
       "\n",
       "    .dataframe thead th {\n",
       "        text-align: right;\n",
       "    }\n",
       "</style>\n",
       "<table border=\"1\" class=\"dataframe\">\n",
       "  <thead>\n",
       "    <tr style=\"text-align: right;\">\n",
       "      <th></th>\n",
       "      <th>repo_name</th>\n",
       "      <th>title</th>\n",
       "      <th>body</th>\n",
       "      <th>languages</th>\n",
       "      <th>tags</th>\n",
       "    </tr>\n",
       "  </thead>\n",
       "  <tbody>\n",
       "    <tr>\n",
       "      <th>0</th>\n",
       "      <td>hyper</td>\n",
       "      <td>Allow overriding the default shell on Windows</td>\n",
       "      <td>**Is your feature request related to a problem...</td>\n",
       "      <td>[TypeScript, Shell, NSIS]</td>\n",
       "      <td>allow overriding default shell window feature ...</td>\n",
       "    </tr>\n",
       "    <tr>\n",
       "      <th>1</th>\n",
       "      <td>hyper</td>\n",
       "      <td>Support forward slashes on Windows</td>\n",
       "      <td>**Is your feature request related to a problem...</td>\n",
       "      <td>[TypeScript, Shell, NSIS]</td>\n",
       "      <td>support forward slash window feature request r...</td>\n",
       "    </tr>\n",
       "    <tr>\n",
       "      <th>2</th>\n",
       "      <td>hyper</td>\n",
       "      <td>Support home-relative paths by expanding `~`</td>\n",
       "      <td>**Is your feature request related to a problem...</td>\n",
       "      <td>[TypeScript, Shell, NSIS]</td>\n",
       "      <td>support homerelative path expand feature reque...</td>\n",
       "    </tr>\n",
       "    <tr>\n",
       "      <th>3</th>\n",
       "      <td>vercel</td>\n",
       "      <td>`vercel link --repo` very slow</td>\n",
       "      <td>I used `0x` to trace it and its a glob issue.\\...</td>\n",
       "      <td>[TypeScript, JavaScript, HTML]</td>\n",
       "      <td>vercel link repo slow x trace glob issue issue...</td>\n",
       "    </tr>\n",
       "    <tr>\n",
       "      <th>4</th>\n",
       "      <td>vercel</td>\n",
       "      <td>[cli] Add telemetry for `vercel teams invite e...</td>\n",
       "      <td>Additional telemetry (and minimal test setup t...</td>\n",
       "      <td>[TypeScript, JavaScript, HTML]</td>\n",
       "      <td>cli add telemetry vercel team invite email ema...</td>\n",
       "    </tr>\n",
       "  </tbody>\n",
       "</table>\n",
       "</div>"
      ],
      "text/plain": [
       "  repo_name                                              title   \n",
       "0     hyper      Allow overriding the default shell on Windows  \\\n",
       "1     hyper                 Support forward slashes on Windows   \n",
       "2     hyper       Support home-relative paths by expanding `~`   \n",
       "3    vercel                     `vercel link --repo` very slow   \n",
       "4    vercel  [cli] Add telemetry for `vercel teams invite e...   \n",
       "\n",
       "                                                body   \n",
       "0  **Is your feature request related to a problem...  \\\n",
       "1  **Is your feature request related to a problem...   \n",
       "2  **Is your feature request related to a problem...   \n",
       "3  I used `0x` to trace it and its a glob issue.\\...   \n",
       "4  Additional telemetry (and minimal test setup t...   \n",
       "\n",
       "                        languages   \n",
       "0       [TypeScript, Shell, NSIS]  \\\n",
       "1       [TypeScript, Shell, NSIS]   \n",
       "2       [TypeScript, Shell, NSIS]   \n",
       "3  [TypeScript, JavaScript, HTML]   \n",
       "4  [TypeScript, JavaScript, HTML]   \n",
       "\n",
       "                                                tags  \n",
       "0  allow overriding default shell window feature ...  \n",
       "1  support forward slash window feature request r...  \n",
       "2  support homerelative path expand feature reque...  \n",
       "3  vercel link repo slow x trace glob issue issue...  \n",
       "4  cli add telemetry vercel team invite email ema...  "
      ]
     },
     "execution_count": 52,
     "metadata": {},
     "output_type": "execute_result"
    }
   ],
   "source": [
    "issues.head()"
   ]
  },
  {
   "cell_type": "code",
   "execution_count": 53,
   "metadata": {},
   "outputs": [],
   "source": [
    "from sklearn.feature_extraction.text import TfidfVectorizer\n",
    "\n",
    "vectorizer = TfidfVectorizer(max_features=5000)\n",
    "tfidf_matrix = vectorizer.fit_transform(issues['tags'])"
   ]
  },
  {
   "cell_type": "code",
   "execution_count": 54,
   "metadata": {},
   "outputs": [
    {
     "data": {
      "text/plain": [
       "(21, 927)"
      ]
     },
     "execution_count": 54,
     "metadata": {},
     "output_type": "execute_result"
    }
   ],
   "source": [
    "tfidf_matrix.shape"
   ]
  },
  {
   "cell_type": "code",
   "execution_count": 55,
   "metadata": {},
   "outputs": [],
   "source": [
    "issues.to_json('preprocessed.json')"
   ]
  },
  {
   "cell_type": "code",
   "execution_count": null,
   "metadata": {},
   "outputs": [],
   "source": []
  }
 ],
 "metadata": {
  "kernelspec": {
   "display_name": "Python 3",
   "language": "python",
   "name": "python3"
  },
  "language_info": {
   "codemirror_mode": {
    "name": "ipython",
    "version": 3
   },
   "file_extension": ".py",
   "mimetype": "text/x-python",
   "name": "python",
   "nbconvert_exporter": "python",
   "pygments_lexer": "ipython3",
   "version": "3.10.11"
  }
 },
 "nbformat": 4,
 "nbformat_minor": 2
}
