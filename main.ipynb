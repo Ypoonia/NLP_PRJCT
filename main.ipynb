{
 "cells": [
  {
   "cell_type": "code",
   "execution_count": 1,
   "metadata": {},
   "outputs": [],
   "source": [
    "import pandas as pd\n",
    "import numpy as np"
   ]
  },
  {
   "cell_type": "code",
   "execution_count": 2,
   "metadata": {},
   "outputs": [
    {
     "data": {
      "text/html": [
       "<div>\n",
       "<style scoped>\n",
       "    .dataframe tbody tr th:only-of-type {\n",
       "        vertical-align: middle;\n",
       "    }\n",
       "\n",
       "    .dataframe tbody tr th {\n",
       "        vertical-align: top;\n",
       "    }\n",
       "\n",
       "    .dataframe thead th {\n",
       "        text-align: right;\n",
       "    }\n",
       "</style>\n",
       "<table border=\"1\" class=\"dataframe\">\n",
       "  <thead>\n",
       "    <tr style=\"text-align: right;\">\n",
       "      <th></th>\n",
       "      <th>repo_name</th>\n",
       "      <th>title</th>\n",
       "      <th>body</th>\n",
       "      <th>languages</th>\n",
       "      <th>tags</th>\n",
       "    </tr>\n",
       "  </thead>\n",
       "  <tbody>\n",
       "    <tr>\n",
       "      <th>13</th>\n",
       "      <td>systemd</td>\n",
       "      <td>systemd-machined can be crashed by calling the...</td>\n",
       "      <td>### systemd version the issue has been seen wi...</td>\n",
       "      <td>[C, Python, Shell]</td>\n",
       "      <td>systemdmachine crash call list varlink method ...</td>\n",
       "    </tr>\n",
       "    <tr>\n",
       "      <th>12</th>\n",
       "      <td>systemd</td>\n",
       "      <td>memory.swap.max == max contrary to systemctl s...</td>\n",
       "      <td>### systemd version the issue has been seen wi...</td>\n",
       "      <td>[C, Python, Shell]</td>\n",
       "      <td>memoryswapmax max contrary systemctl showexpec...</td>\n",
       "    </tr>\n",
       "    <tr>\n",
       "      <th>19</th>\n",
       "      <td>prisma</td>\n",
       "      <td>Inconsistent column data: Could not convert va...</td>\n",
       "      <td>### Bug description\\n\\nWe recently changed dat...</td>\n",
       "      <td>[TypeScript, JavaScript, Shell]</td>\n",
       "      <td>inconsistent column datum convert value false ...</td>\n",
       "    </tr>\n",
       "    <tr>\n",
       "      <th>8</th>\n",
       "      <td>llama-models</td>\n",
       "      <td>lm_head weight of Llama3.2_3B_instruct model</td>\n",
       "      <td>Hello, I find that theres no lm_head weight in...</td>\n",
       "      <td>[Python]</td>\n",
       "      <td>lmhead weight llamabinstruct model hello find ...</td>\n",
       "    </tr>\n",
       "    <tr>\n",
       "      <th>7</th>\n",
       "      <td>llama-models</td>\n",
       "      <td>Can llama3.2 vision accept no image?</td>\n",
       "      <td>Hello, \\r\\n\\r\\nthank you for thegreat work.\\r\\...</td>\n",
       "      <td>[Python]</td>\n",
       "      <td>llama vision accept image hello thank thegreat...</td>\n",
       "    </tr>\n",
       "  </tbody>\n",
       "</table>\n",
       "</div>"
      ],
      "text/plain": [
       "       repo_name                                              title  \\\n",
       "13       systemd  systemd-machined can be crashed by calling the...   \n",
       "12       systemd  memory.swap.max == max contrary to systemctl s...   \n",
       "19        prisma  Inconsistent column data: Could not convert va...   \n",
       "8   llama-models       lm_head weight of Llama3.2_3B_instruct model   \n",
       "7   llama-models               Can llama3.2 vision accept no image?   \n",
       "\n",
       "                                                 body  \\\n",
       "13  ### systemd version the issue has been seen wi...   \n",
       "12  ### systemd version the issue has been seen wi...   \n",
       "19  ### Bug description\\n\\nWe recently changed dat...   \n",
       "8   Hello, I find that theres no lm_head weight in...   \n",
       "7   Hello, \\r\\n\\r\\nthank you for thegreat work.\\r\\...   \n",
       "\n",
       "                          languages  \\\n",
       "13               [C, Python, Shell]   \n",
       "12               [C, Python, Shell]   \n",
       "19  [TypeScript, JavaScript, Shell]   \n",
       "8                          [Python]   \n",
       "7                          [Python]   \n",
       "\n",
       "                                                 tags  \n",
       "13  systemdmachine crash call list varlink method ...  \n",
       "12  memoryswapmax max contrary systemctl showexpec...  \n",
       "19  inconsistent column datum convert value false ...  \n",
       "8   lmhead weight llamabinstruct model hello find ...  \n",
       "7   llama vision accept image hello thank thegreat...  "
      ]
     },
     "execution_count": 2,
     "metadata": {},
     "output_type": "execute_result"
    }
   ],
   "source": [
    "issues = pd.read_json(\"preprocessed.json\")\n",
    "issues.sample(5)"
   ]
  },
  {
   "cell_type": "code",
   "execution_count": 3,
   "metadata": {},
   "outputs": [],
   "source": [
    "from sklearn.feature_extraction.text import TfidfVectorizer\n",
    "from sklearn.metrics.pairwise import cosine_similarity"
   ]
  },
  {
   "cell_type": "code",
   "execution_count": 4,
   "metadata": {},
   "outputs": [],
   "source": [
    "class Litmus:\n",
    "    def __init__(self, data):\n",
    "        self.data = data\n",
    "        self.vectorizer = TfidfVectorizer(stop_words='english')\n",
    "        self.tfidf_matrix = self.vectorizer.fit_transform(self.data['tags'])\n",
    "        \n",
    "    def get_rec(self, lang, limit=5):\n",
    "            language_mask = self.data['languages'].apply(\n",
    "                lambda x: lang.lower() in str(x).lower()\n",
    "            )\n",
    "            if not any(language_mask):\n",
    "                return []\n",
    "\n",
    "            relevant_issues = self.data[language_mask]\n",
    "            relevant_matrix = self.tfidf_matrix[language_mask]\n",
    "            \n",
    "            similarity_scores = cosine_similarity(relevant_matrix, relevant_matrix)\n",
    "            \n",
    "            recommendations = []\n",
    "            seen_titles = set()\n",
    "            \n",
    "            for idx in range(len(relevant_issues)):\n",
    "                similar_indices = similarity_scores[idx].argsort()[::-1][1:limit+1]\n",
    "            \n",
    "                for similar_idx in similar_indices:\n",
    "                    issue = relevant_issues.iloc[similar_idx]\n",
    "                    \n",
    "                    # no dups!\n",
    "                    if issue['title'] not in seen_titles:\n",
    "                        recommendations.append({\n",
    "                            'repo_name': issue['repo_name'],\n",
    "                            'title': issue['title'],\n",
    "                            'languages': issue['languages'],\n",
    "                            'tags': issue['tags']\n",
    "                        })\n",
    "                        seen_titles.add(issue['title'])\n",
    "                        \n",
    "                    if len(recommendations) >= limit:\n",
    "                        break\n",
    "                        \n",
    "                if len(recommendations) >= limit:\n",
    "                    break\n",
    "                \n",
    "            return recommendations"
   ]
  },
  {
   "cell_type": "code",
   "execution_count": 5,
   "metadata": {},
   "outputs": [
    {
     "name": "stdout",
     "output_type": "stream",
     "text": [
      "\n",
      "Recommendation 1:\n",
      "Repository: vercel\n",
      "Title: [cli] Add telemetry for `vercel teams invite email1, email2`\n",
      "Languages: ['TypeScript', 'JavaScript', 'HTML']\n",
      "\n",
      "Recommendation 2:\n",
      "Repository: spring-data-mongodb\n",
      "Title: Cannot add litteral array with SetUnion\n",
      "Languages: ['Java', 'Kotlin', 'Dockerfile']\n",
      "\n",
      "Recommendation 3:\n",
      "Repository: commitlint\n",
      "Title: fix: <title> type-enum inside RuleConfigSeverity.Error is not working.\n",
      "Languages: ['TypeScript', 'JavaScript']\n"
     ]
    }
   ],
   "source": [
    "recommender = Litmus(issues)\n",
    "recommendations = recommender.get_rec('Java', limit=3)\n",
    "for i, rec in enumerate(recommendations, 1):\n",
    "        print(f\"\\nRecommendation {i}:\")\n",
    "        print(f\"Repository: {rec['repo_name']}\")\n",
    "        print(f\"Title: {rec['title']}\")\n",
    "        print(f\"Languages: {rec['languages']}\")"
   ]
  },
  {
   "cell_type": "code",
   "execution_count": null,
   "metadata": {},
   "outputs": [],
   "source": []
  }
 ],
 "metadata": {
  "kernelspec": {
   "display_name": "base",
   "language": "python",
   "name": "python3"
  },
  "language_info": {
   "codemirror_mode": {
    "name": "ipython",
    "version": 3
   },
   "file_extension": ".py",
   "mimetype": "text/x-python",
   "name": "python",
   "nbconvert_exporter": "python",
   "pygments_lexer": "ipython3",
   "version": "3.9.13"
  }
 },
 "nbformat": 4,
 "nbformat_minor": 2
}
