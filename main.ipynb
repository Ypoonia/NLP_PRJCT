{
 "cells": [
  {
   "cell_type": "code",
   "execution_count": 2,
   "metadata": {},
   "outputs": [],
   "source": [
    "import pandas as pd\n",
    "import numpy as np"
   ]
  },
  {
   "cell_type": "code",
   "execution_count": 3,
   "metadata": {},
   "outputs": [
    {
     "data": {
      "text/html": [
       "<div>\n",
       "<style scoped>\n",
       "    .dataframe tbody tr th:only-of-type {\n",
       "        vertical-align: middle;\n",
       "    }\n",
       "\n",
       "    .dataframe tbody tr th {\n",
       "        vertical-align: top;\n",
       "    }\n",
       "\n",
       "    .dataframe thead th {\n",
       "        text-align: right;\n",
       "    }\n",
       "</style>\n",
       "<table border=\"1\" class=\"dataframe\">\n",
       "  <thead>\n",
       "    <tr style=\"text-align: right;\">\n",
       "      <th></th>\n",
       "      <th>repo_name</th>\n",
       "      <th>title</th>\n",
       "      <th>body</th>\n",
       "      <th>languages</th>\n",
       "      <th>tags</th>\n",
       "    </tr>\n",
       "  </thead>\n",
       "  <tbody>\n",
       "    <tr>\n",
       "      <th>1</th>\n",
       "      <td>hyper</td>\n",
       "      <td>Support forward slashes on Windows</td>\n",
       "      <td>**Is your feature request related to a problem...</td>\n",
       "      <td>[TypeScript, Shell, NSIS]</td>\n",
       "      <td>support forward slash window feature request r...</td>\n",
       "    </tr>\n",
       "    <tr>\n",
       "      <th>7</th>\n",
       "      <td>llama-models</td>\n",
       "      <td>Can llama3.2 vision accept no image?</td>\n",
       "      <td>Hello, \\r\\n\\r\\nthank you for thegreat work.\\r\\...</td>\n",
       "      <td>[Python]</td>\n",
       "      <td>llama vision accept image hello thank thegreat...</td>\n",
       "    </tr>\n",
       "    <tr>\n",
       "      <th>0</th>\n",
       "      <td>hyper</td>\n",
       "      <td>Allow overriding the default shell on Windows</td>\n",
       "      <td>**Is your feature request related to a problem...</td>\n",
       "      <td>[TypeScript, Shell, NSIS]</td>\n",
       "      <td>allow overriding default shell window feature ...</td>\n",
       "    </tr>\n",
       "    <tr>\n",
       "      <th>8</th>\n",
       "      <td>llama-models</td>\n",
       "      <td>lm_head weight of Llama3.2_3B_instruct model</td>\n",
       "      <td>Hello, I find that theres no lm_head weight in...</td>\n",
       "      <td>[Python]</td>\n",
       "      <td>lmhead weight llamabinstruct model hello find ...</td>\n",
       "    </tr>\n",
       "    <tr>\n",
       "      <th>11</th>\n",
       "      <td>pgjdbc</td>\n",
       "      <td>getSchemas with empty string for schemaPattern...</td>\n",
       "      <td>**Describe the issue**\\r\\nThe method getSchema...</td>\n",
       "      <td>[Java, Groovy, Shell]</td>\n",
       "      <td>getschema string schemapattern return schemas ...</td>\n",
       "    </tr>\n",
       "  </tbody>\n",
       "</table>\n",
       "</div>"
      ],
      "text/plain": [
       "       repo_name                                              title  \\\n",
       "1          hyper                 Support forward slashes on Windows   \n",
       "7   llama-models               Can llama3.2 vision accept no image?   \n",
       "0          hyper      Allow overriding the default shell on Windows   \n",
       "8   llama-models       lm_head weight of Llama3.2_3B_instruct model   \n",
       "11        pgjdbc  getSchemas with empty string for schemaPattern...   \n",
       "\n",
       "                                                 body  \\\n",
       "1   **Is your feature request related to a problem...   \n",
       "7   Hello, \\r\\n\\r\\nthank you for thegreat work.\\r\\...   \n",
       "0   **Is your feature request related to a problem...   \n",
       "8   Hello, I find that theres no lm_head weight in...   \n",
       "11  **Describe the issue**\\r\\nThe method getSchema...   \n",
       "\n",
       "                    languages  \\\n",
       "1   [TypeScript, Shell, NSIS]   \n",
       "7                    [Python]   \n",
       "0   [TypeScript, Shell, NSIS]   \n",
       "8                    [Python]   \n",
       "11      [Java, Groovy, Shell]   \n",
       "\n",
       "                                                 tags  \n",
       "1   support forward slash window feature request r...  \n",
       "7   llama vision accept image hello thank thegreat...  \n",
       "0   allow overriding default shell window feature ...  \n",
       "8   lmhead weight llamabinstruct model hello find ...  \n",
       "11  getschema string schemapattern return schemas ...  "
      ]
     },
     "execution_count": 3,
     "metadata": {},
     "output_type": "execute_result"
    }
   ],
   "source": [
    "issues = pd.read_json(\"preprocessed.json\")\n",
    "issues.sample(5)"
   ]
  },
  {
   "cell_type": "code",
   "execution_count": 4,
   "metadata": {},
   "outputs": [],
   "source": [
    "from sklearn.feature_extraction.text import TfidfVectorizer\n",
    "from sklearn.metrics.pairwise import cosine_similarity"
   ]
  },
  {
   "cell_type": "code",
   "execution_count": 5,
   "metadata": {},
   "outputs": [],
   "source": [
    "class Litmus:\n",
    "    def __init__(self, data):\n",
    "        self.data = data\n",
    "        self.vectorizer = TfidfVectorizer(stop_words='english')\n",
    "        self.tfidf_matrix = self.vectorizer.fit_transform(self.data['tags'])\n",
    "        \n",
    "    def get_rec(self, lang, limit=5):\n",
    "            language_mask = self.data['languages'].apply(\n",
    "                lambda x: lang.lower() in str(x).lower()\n",
    "            )\n",
    "            if not any(language_mask):\n",
    "                return []\n",
    "\n",
    "            relevant_issues = self.data[language_mask]\n",
    "            relevant_matrix = self.tfidf_matrix[language_mask]\n",
    "            \n",
    "            similarity_scores = cosine_similarity(relevant_matrix, relevant_matrix)\n",
    "            \n",
    "            recommendations = []\n",
    "            seen_titles = set()\n",
    "            \n",
    "            for idx in range(len(relevant_issues)):\n",
    "                similar_indices = similarity_scores[idx].argsort()[::-1][1:limit+1]\n",
    "            \n",
    "                for similar_idx in similar_indices:\n",
    "                    issue = relevant_issues.iloc[similar_idx]\n",
    "                    \n",
    "                    # no dups!\n",
    "                    if issue['title'] not in seen_titles:\n",
    "                        recommendations.append({\n",
    "                            'repo_name': issue['repo_name'],\n",
    "                            'title': issue['title'],\n",
    "                            'languages': issue['languages'],\n",
    "                            'tags': issue['tags']\n",
    "                        })\n",
    "                        seen_titles.add(issue['title'])\n",
    "                        \n",
    "                    if len(recommendations) >= limit:\n",
    "                        break\n",
    "                        \n",
    "                if len(recommendations) >= limit:\n",
    "                    break\n",
    "                \n",
    "            return recommendations"
   ]
  },
  {
   "cell_type": "code",
   "execution_count": 6,
   "metadata": {},
   "outputs": [
    {
     "name": "stdout",
     "output_type": "stream",
     "text": [
      "\n",
      "Recommendation 1:\n",
      "Repository: llama-models\n",
      "Title: lm_head weight of Llama3.2_3B_instruct model\n",
      "Languages: ['Python']\n",
      "\n",
      "Recommendation 2:\n",
      "Repository: pandas\n",
      "Title: BUG: \"python make.py html\" for documentation is giving error\n",
      "Languages: ['Python', 'Cython', 'HTML']\n",
      "\n",
      "Recommendation 3:\n",
      "Repository: systemd\n",
      "Title: memory.swap.max == max contrary to systemctl show/expectation\n",
      "Languages: ['C', 'Python', 'Shell']\n"
     ]
    }
   ],
   "source": [
    "recommender = Litmus(issues)\n",
    "recommendations = recommender.get_rec('Python', limit=3)\n",
    "for i, rec in enumerate(recommendations, 1):\n",
    "        print(f\"\\nRecommendation {i}:\")\n",
    "        print(f\"Repository: {rec['repo_name']}\")\n",
    "        print(f\"Title: {rec['title']}\")\n",
    "        print(f\"Languages: {rec['languages']}\")"
   ]
  },
  {
   "cell_type": "code",
   "execution_count": null,
   "metadata": {},
   "outputs": [],
   "source": []
  }
 ],
 "metadata": {
  "kernelspec": {
   "display_name": "base",
   "language": "python",
   "name": "python3"
  },
  "language_info": {
   "codemirror_mode": {
    "name": "ipython",
    "version": 3
   },
   "file_extension": ".py",
   "mimetype": "text/x-python",
   "name": "python",
   "nbconvert_exporter": "python",
   "pygments_lexer": "ipython3",
   "version": "3.9.13"
  }
 },
 "nbformat": 4,
 "nbformat_minor": 2
}
