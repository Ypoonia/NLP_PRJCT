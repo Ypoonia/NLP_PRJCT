{
 "cells": [
  {
   "cell_type": "code",
   "execution_count": 2,
   "metadata": {},
   "outputs": [],
   "source": [
    "import pandas as pd\n",
    "import numpy as np"
   ]
  },
  {
   "cell_type": "code",
   "execution_count": 8,
   "metadata": {},
   "outputs": [
    {
     "data": {
      "text/html": [
       "<div>\n",
       "<style scoped>\n",
       "    .dataframe tbody tr th:only-of-type {\n",
       "        vertical-align: middle;\n",
       "    }\n",
       "\n",
       "    .dataframe tbody tr th {\n",
       "        vertical-align: top;\n",
       "    }\n",
       "\n",
       "    .dataframe thead th {\n",
       "        text-align: right;\n",
       "    }\n",
       "</style>\n",
       "<table border=\"1\" class=\"dataframe\">\n",
       "  <thead>\n",
       "    <tr style=\"text-align: right;\">\n",
       "      <th></th>\n",
       "      <th>repo_name</th>\n",
       "      <th>title</th>\n",
       "      <th>body</th>\n",
       "      <th>languages</th>\n",
       "      <th>tags</th>\n",
       "    </tr>\n",
       "  </thead>\n",
       "  <tbody>\n",
       "    <tr>\n",
       "      <th>19</th>\n",
       "      <td>prisma</td>\n",
       "      <td>Inconsistent column data: Could not convert va...</td>\n",
       "      <td>### Bug description\\n\\nWe recently changed dat...</td>\n",
       "      <td>[TypeScript, JavaScript, Shell]</td>\n",
       "      <td>inconsistent column datum convert value false ...</td>\n",
       "    </tr>\n",
       "    <tr>\n",
       "      <th>15</th>\n",
       "      <td>beast</td>\n",
       "      <td>basic_stream's (websocket::stream) async_conne...</td>\n",
       "      <td>### Version of Beast\\r\\n\\r\\nBoost 1.86.0\\r\\n\\r...</td>\n",
       "      <td>[C++, C, CMake]</td>\n",
       "      <td>basicstreams websocketstream asyncconnect comp...</td>\n",
       "    </tr>\n",
       "    <tr>\n",
       "      <th>6</th>\n",
       "      <td>spring-data-mongodb</td>\n",
       "      <td>Cannot add litteral array with SetUnion</td>\n",
       "      <td>Hello,\\r\\n\\r\\nUsing SetOperators.SetUnion:\\r\\n...</td>\n",
       "      <td>[Java, Kotlin, Dockerfile]</td>\n",
       "      <td>add litteral array setunion hello setoperators...</td>\n",
       "    </tr>\n",
       "    <tr>\n",
       "      <th>1</th>\n",
       "      <td>hyper</td>\n",
       "      <td>Support forward slashes on Windows</td>\n",
       "      <td>**Is your feature request related to a problem...</td>\n",
       "      <td>[TypeScript, Shell, NSIS]</td>\n",
       "      <td>support forward slash window feature request r...</td>\n",
       "    </tr>\n",
       "    <tr>\n",
       "      <th>4</th>\n",
       "      <td>vercel</td>\n",
       "      <td>[cli] Add telemetry for `vercel teams invite e...</td>\n",
       "      <td>Additional telemetry (and minimal test setup t...</td>\n",
       "      <td>[TypeScript, JavaScript, HTML]</td>\n",
       "      <td>cli add telemetry vercel team invite email ema...</td>\n",
       "    </tr>\n",
       "  </tbody>\n",
       "</table>\n",
       "</div>"
      ],
      "text/plain": [
       "              repo_name                                              title   \n",
       "19               prisma  Inconsistent column data: Could not convert va...  \\\n",
       "15                beast  basic_stream's (websocket::stream) async_conne...   \n",
       "6   spring-data-mongodb            Cannot add litteral array with SetUnion   \n",
       "1                 hyper                 Support forward slashes on Windows   \n",
       "4                vercel  [cli] Add telemetry for `vercel teams invite e...   \n",
       "\n",
       "                                                 body   \n",
       "19  ### Bug description\\n\\nWe recently changed dat...  \\\n",
       "15  ### Version of Beast\\r\\n\\r\\nBoost 1.86.0\\r\\n\\r...   \n",
       "6   Hello,\\r\\n\\r\\nUsing SetOperators.SetUnion:\\r\\n...   \n",
       "1   **Is your feature request related to a problem...   \n",
       "4   Additional telemetry (and minimal test setup t...   \n",
       "\n",
       "                          languages   \n",
       "19  [TypeScript, JavaScript, Shell]  \\\n",
       "15                  [C++, C, CMake]   \n",
       "6        [Java, Kotlin, Dockerfile]   \n",
       "1         [TypeScript, Shell, NSIS]   \n",
       "4    [TypeScript, JavaScript, HTML]   \n",
       "\n",
       "                                                 tags  \n",
       "19  inconsistent column datum convert value false ...  \n",
       "15  basicstreams websocketstream asyncconnect comp...  \n",
       "6   add litteral array setunion hello setoperators...  \n",
       "1   support forward slash window feature request r...  \n",
       "4   cli add telemetry vercel team invite email ema...  "
      ]
     },
     "execution_count": 8,
     "metadata": {},
     "output_type": "execute_result"
    }
   ],
   "source": [
    "issues = pd.read_json(\"preprocessed.json\")\n",
    "issues.sample(5)"
   ]
  },
  {
   "cell_type": "code",
   "execution_count": 12,
   "metadata": {},
   "outputs": [],
   "source": [
    "from sklearn.feature_extraction.text import TfidfVectorizer\n",
    "from sklearn.metrics.pairwise import cosine_similarity"
   ]
  },
  {
   "cell_type": "code",
   "execution_count": 13,
   "metadata": {},
   "outputs": [],
   "source": [
    "class Litmus:\n",
    "    def __init__(self, data):\n",
    "        self.data = data\n",
    "        self.vectorizer = TfidfVectorizer(stop_words='english')\n",
    "        self.tfidf_matrix = self.vectorizer.fit_transform(self.data['tags'])\n",
    "        \n",
    "    def get_rec(self, lang, limit=5):\n",
    "            language_mask = self.data['languages'].apply(\n",
    "                lambda x: lang.lower() in str(x).lower()\n",
    "            )\n",
    "            if not any(language_mask):\n",
    "                return []\n",
    "\n",
    "            relevant_issues = self.data[language_mask]\n",
    "            relevant_matrix = self.tfidf_matrix[language_mask]\n",
    "            \n",
    "            similarity_scores = cosine_similarity(relevant_matrix, relevant_matrix)\n",
    "            \n",
    "            recommendations = []\n",
    "            seen_titles = set()\n",
    "            \n",
    "            for idx in range(len(relevant_issues)):\n",
    "                similar_indices = similarity_scores[idx].argsort()[::-1][1:limit+1]\n",
    "            \n",
    "                for similar_idx in similar_indices:\n",
    "                    issue = relevant_issues.iloc[similar_idx]\n",
    "                    \n",
    "                    # no dups!\n",
    "                    if issue['title'] not in seen_titles:\n",
    "                        recommendations.append({\n",
    "                            'repo_name': issue['repo_name'],\n",
    "                            'title': issue['title'],\n",
    "                            'languages': issue['languages'],\n",
    "                            'tags': issue['tags']\n",
    "                        })\n",
    "                        seen_titles.add(issue['title'])\n",
    "                        \n",
    "                    if len(recommendations) >= limit:\n",
    "                        break\n",
    "                        \n",
    "                if len(recommendations) >= limit:\n",
    "                    break\n",
    "                \n",
    "            return recommendations"
   ]
  },
  {
   "cell_type": "code",
   "execution_count": 15,
   "metadata": {},
   "outputs": [
    {
     "name": "stdout",
     "output_type": "stream",
     "text": [
      "\n",
      "Recommendation 1:\n",
      "Repository: hyper\n",
      "Title: Support home-relative paths by expanding `~`\n",
      "Languages: ['TypeScript', 'Shell', 'NSIS']\n",
      "\n",
      "Recommendation 2:\n",
      "Repository: vercel\n",
      "Title: [cli] Add telemetry for `vercel teams invite email1, email2`\n",
      "Languages: ['TypeScript', 'JavaScript', 'HTML']\n",
      "\n",
      "Recommendation 3:\n",
      "Repository: hyper\n",
      "Title: Support forward slashes on Windows\n",
      "Languages: ['TypeScript', 'Shell', 'NSIS']\n"
     ]
    }
   ],
   "source": [
    "recommender = Litmus(issues)\n",
    "recommendations = recommender.get_rec('TypeScript', limit=3)\n",
    "for i, rec in enumerate(recommendations, 1):\n",
    "        print(f\"\\nRecommendation {i}:\")\n",
    "        print(f\"Repository: {rec['repo_name']}\")\n",
    "        print(f\"Title: {rec['title']}\")\n",
    "        print(f\"Languages: {rec['languages']}\")"
   ]
  },
  {
   "cell_type": "code",
   "execution_count": null,
   "metadata": {},
   "outputs": [],
   "source": []
  }
 ],
 "metadata": {
  "kernelspec": {
   "display_name": "Python 3",
   "language": "python",
   "name": "python3"
  },
  "language_info": {
   "codemirror_mode": {
    "name": "ipython",
    "version": 3
   },
   "file_extension": ".py",
   "mimetype": "text/x-python",
   "name": "python",
   "nbconvert_exporter": "python",
   "pygments_lexer": "ipython3",
   "version": "3.10.11"
  }
 },
 "nbformat": 4,
 "nbformat_minor": 2
}
